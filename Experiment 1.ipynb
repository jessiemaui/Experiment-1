{
 "cells": [
  {
   "cell_type": "code",
   "execution_count": 2,
   "id": "4243a513-8fac-44dd-b82a-0a0a67735830",
   "metadata": {},
   "outputs": [],
   "source": [
    "def alphabet_soup (s):\n",
    "    str = ''.join(sorted(s))\n",
    "    return str"
   ]
  },
  {
   "cell_type": "code",
   "execution_count": 8,
   "id": "72007a3e-6598-49a1-bfe0-096ec5744365",
   "metadata": {},
   "outputs": [
    {
     "name": "stdout",
     "output_type": "stream",
     "text": [
      "aimu\n"
     ]
    }
   ],
   "source": [
    "print (alphabet_soup(\"maui\"))"
   ]
  },
  {
   "cell_type": "code",
   "execution_count": 62,
   "id": "9f1d5d66-4089-4846-ae80-1ad1da4d2613",
   "metadata": {},
   "outputs": [
    {
     "name": "stdin",
     "output_type": "stream",
     "text": [
      "Enter your feelings today. Are you smile/grin/sad/mad?: mad\n"
     ]
    },
    {
     "name": "stdout",
     "output_type": "stream",
     "text": [
      ">:(\n"
     ]
    }
   ],
   "source": [
    "def changing_words_to_emoticons(a):\n",
    "    a = a.lower()\n",
    "    if \"smile\" in a:\n",
    "        a = a.replace(\"smile\", \":)\")\n",
    "    if \"grin\" in a:\n",
    "        a = a.replace(\"grin\", \":D\")\n",
    "    if \"sad\" in a:\n",
    "        a = a.replace(\"sad\", \":(\")\n",
    "    if \"mad\" in a:\n",
    "        a = a.replace(\"mad\", \">:(\")\n",
    "    return a\n",
    "\n",
    "b = input(\"Enter your feelings today. Are you smile/grin/sad/mad?:\")\n",
    "\n",
    "output_try= changing_words_to_emoticons(b)\n",
    "print (output_try)"
   ]
  },
  {
   "cell_type": "code",
   "execution_count": 40,
   "id": "ce8d0f77-0156-445c-aa38-b0aa04b5e30f",
   "metadata": {},
   "outputs": [
    {
     "name": "stdout",
     "output_type": "stream",
     "text": [
      "first: tiger\n",
      "middle: ['bulldog', 'tamaraw', 'eagles', 'archers']\n",
      "last: cat\n"
     ]
    }
   ],
   "source": [
    "b = [\"tiger\",\"bulldog\",\"tamaraw\",\"eagles\",\"archers\",\"cat\"]\n",
    "print(\"first:\",b[0])\n",
    "print(\"middle:\",b[1:5])\n",
    "print(\"last:\",b[-1])"
   ]
  },
  {
   "cell_type": "code",
   "execution_count": null,
   "id": "d67e0651-dcc6-4c8c-8dff-aded077cbade",
   "metadata": {},
   "outputs": [],
   "source": [
    "a = input(\"What are you feeling today?: \")\n",
    "\n",
    "def emotify (a):\n",
    "    "
   ]
  }
 ],
 "metadata": {
  "kernelspec": {
   "display_name": "anaconda-panel-2023.05-py310",
   "language": "python",
   "name": "conda-env-anaconda-panel-2023.05-py310-py"
  },
  "language_info": {
   "codemirror_mode": {
    "name": "ipython",
    "version": 3
   },
   "file_extension": ".py",
   "mimetype": "text/x-python",
   "name": "python",
   "nbconvert_exporter": "python",
   "pygments_lexer": "ipython3",
   "version": "3.11.5"
  }
 },
 "nbformat": 4,
 "nbformat_minor": 5
}
