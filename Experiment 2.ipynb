{
 "cells": [
  {
   "cell_type": "code",
   "execution_count": 24,
   "id": "508041e9-f384-4df3-b541-28d1ea98e8d1",
   "metadata": {},
   "outputs": [
    {
     "name": "stdout",
     "output_type": "stream",
     "text": [
      "[[0.4425218  0.74652289 0.63917218 0.59251577 0.64360995]\n",
      " [0.15857588 0.03155409 0.61093384 0.87094599 0.72894078]\n",
      " [0.98373472 0.60771307 0.74249412 0.1382878  0.25729819]\n",
      " [0.19546395 0.67390217 0.14574204 0.18317289 0.48489554]\n",
      " [0.58973773 0.1400261  0.9858015  0.59105707 0.62332227]]\n"
     ]
    }
   ],
   "source": [
    "import numpy\n",
    "\n",
    "X = numpy.random.rand(5,5)\n",
    "Z = (X - numpy.mean(X)) / numpy.std(X)\n",
    "print(X)"
   ]
  },
  {
   "cell_type": "code",
   "execution_count": 12,
   "id": "48041212-41a5-460b-a83a-c8ef72304f70",
   "metadata": {},
   "outputs": [
    {
     "name": "stdout",
     "output_type": "stream",
     "text": [
      "[[    1     4     9    16    25    36    49    64    81   100]\n",
      " [  121   144   169   196   225   256   289   324   361   400]\n",
      " [  441   484   529   576   625   676   729   784   841   900]\n",
      " [  961  1024  1089  1156  1225  1296  1369  1444  1521  1600]\n",
      " [ 1681  1764  1849  1936  2025  2116  2209  2304  2401  2500]\n",
      " [ 2601  2704  2809  2916  3025  3136  3249  3364  3481  3600]\n",
      " [ 3721  3844  3969  4096  4225  4356  4489  4624  4761  4900]\n",
      " [ 5041  5184  5329  5476  5625  5776  5929  6084  6241  6400]\n",
      " [ 6561  6724  6889  7056  7225  7396  7569  7744  7921  8100]\n",
      " [ 8281  8464  8649  8836  9025  9216  9409  9604  9801 10000]]\n",
      "\n",
      "These are the following elements that are divisible by 3 \n",
      " [[   9   36   81  144  225  324  441  576  729  900 1089]\n",
      " [1296 1521 1764 2025 2304 2601 2916 3249 3600 3969 4356]\n",
      " [4761 5184 5625 6084 6561 7056 7569 8100 8649 9216 9801]]\n"
     ]
    }
   ],
   "source": [
    "import numpy\n",
    "\n",
    "A = numpy.arange(1,101) ** 2\n",
    "A = A.reshape(10,10)\n",
    "print(A)\n",
    "\n",
    "div_by_3 = A[A % 3 == 0]\n",
    "div_by_3 = div_by_3.reshape(3,11)\n",
    "\n",
    "print(\"\\nThese are the following elements that are divisible by 3 \\n\" , div_by_3)"
   ]
  },
  {
   "cell_type": "code",
   "execution_count": null,
   "id": "6b57fc6b-fb54-411e-ab85-c91e260bbeae",
   "metadata": {},
   "outputs": [],
   "source": []
  }
 ],
 "metadata": {
  "kernelspec": {
   "display_name": "anaconda-panel-2023.05-py310",
   "language": "python",
   "name": "conda-env-anaconda-panel-2023.05-py310-py"
  },
  "language_info": {
   "codemirror_mode": {
    "name": "ipython",
    "version": 3
   },
   "file_extension": ".py",
   "mimetype": "text/x-python",
   "name": "python",
   "nbconvert_exporter": "python",
   "pygments_lexer": "ipython3",
   "version": "3.11.5"
  }
 },
 "nbformat": 4,
 "nbformat_minor": 5
}
